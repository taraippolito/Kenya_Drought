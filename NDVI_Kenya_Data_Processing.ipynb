{
 "cells": [
  {
   "cell_type": "code",
   "execution_count": 2,
   "id": "4e6b67cb",
   "metadata": {},
   "outputs": [],
   "source": [
    "import matplotlib.pyplot as plt\n",
    "import numpy.ma as ma\n",
    "import xarray as xr\n",
    "import rioxarray as rxr\n",
    "from shapely.geometry import mapping, box\n",
    "import geopandas as gpd\n",
    "import rasterio \n",
    "from rasterio import plot\n",
    "import numpy as np\n"
   ]
  },
  {
   "cell_type": "code",
   "execution_count": 6,
   "id": "8b24f3a7",
   "metadata": {},
   "outputs": [],
   "source": [
    "import os \n",
    "tifs = [doc for doc in os.listdir(\"D:\\\\bulk_download_USGS\\\\Bulk_Order_Turkana_2\\\\Landsat_8-9_OLI_TIRS_C2_L2\") if doc.endswith(\".tiff\")]\n",
    "files = [item for item in os.listdir(\"D:\\\\bulk_download_USGS\\\\Bulk_Order_Turkana_2\\\\Landsat_8-9_OLI_TIRS_C2_L2\") if item not in tifs]"
   ]
  },
  {
   "cell_type": "code",
   "execution_count": 15,
   "id": "95fd253f",
   "metadata": {},
   "outputs": [
    {
     "name": "stdout",
     "output_type": "stream",
     "text": [
      "35\n"
     ]
    }
   ],
   "source": [
    "for i in range(35,36): \n",
    "    print (i)"
   ]
  },
  {
   "cell_type": "markdown",
   "id": "99e7b373",
   "metadata": {},
   "source": [
    "To Delete extra files and calculate NDVI for each image"
   ]
  },
  {
   "cell_type": "code",
   "execution_count": 19,
   "id": "0043eeab",
   "metadata": {
    "scrolled": true
   },
   "outputs": [
    {
     "name": "stdout",
     "output_type": "stream",
     "text": [
      "<open DatasetReader name='D:/bulk_download_USGS/Bulk_Order_Turkana_2/Landsat_8-9_OLI_TIRS_C2_L2/LC08_L2SP_170058_20160513_20200907_02_T1/LC08_L2SP_170058_20160513_20200907_02_T1_SR_B4.TIF' mode='r'> <open DatasetReader name='D:/bulk_download_USGS/Bulk_Order_Turkana_2/Landsat_8-9_OLI_TIRS_C2_L2/LC08_L2SP_170058_20160513_20200907_02_T1/LC08_L2SP_170058_20160513_20200907_02_T1_SR_B5.TIF' mode='r'>\n"
     ]
    },
    {
     "ename": "RasterioIOError",
     "evalue": "Read or write failed. D:/bulk_download_USGS/Bulk_Order_Turkana_2/Landsat_8-9_OLI_TIRS_C2_L2/LC08_L2SP_170058_20160513_20200907_02_T1/LC08_L2SP_170058_20160513_20200907_02_T1_SR_B4.TIF, band 1: IReadBlock failed at X offset 25, Y offset 12: TIFFReadEncodedTile() failed.",
     "output_type": "error",
     "traceback": [
      "\u001b[1;31m---------------------------------------------------------------------------\u001b[0m",
      "\u001b[1;31mCPLE_AppDefinedError\u001b[0m                      Traceback (most recent call last)",
      "\u001b[1;32mrasterio\\_io.pyx\u001b[0m in \u001b[0;36mrasterio._io.DatasetReaderBase._read\u001b[1;34m()\u001b[0m\n",
      "\u001b[1;32mrasterio\\shim_rasterioex.pxi\u001b[0m in \u001b[0;36mrasterio._shim.io_multi_band\u001b[1;34m()\u001b[0m\n",
      "\u001b[1;32mrasterio\\_err.pyx\u001b[0m in \u001b[0;36mrasterio._err.exc_wrap_int\u001b[1;34m()\u001b[0m\n",
      "\u001b[1;31mCPLE_AppDefinedError\u001b[0m: D:/bulk_download_USGS/Bulk_Order_Turkana_2/Landsat_8-9_OLI_TIRS_C2_L2/LC08_L2SP_170058_20160513_20200907_02_T1/LC08_L2SP_170058_20160513_20200907_02_T1_SR_B4.TIF, band 1: IReadBlock failed at X offset 25, Y offset 12: TIFFReadEncodedTile() failed.",
      "\nDuring handling of the above exception, another exception occurred:\n",
      "\u001b[1;31mRasterioIOError\u001b[0m                           Traceback (most recent call last)",
      "\u001b[1;32mC:\\Users\\RESEAR~1\\AppData\\Local\\Temp/ipykernel_7332/2674643480.py\u001b[0m in \u001b[0;36m<module>\u001b[1;34m\u001b[0m\n\u001b[0;32m     26\u001b[0m     \u001b[0mprint\u001b[0m \u001b[1;33m(\u001b[0m\u001b[0mb4\u001b[0m\u001b[1;33m,\u001b[0m \u001b[0mb5\u001b[0m\u001b[1;33m)\u001b[0m\u001b[1;33m\u001b[0m\u001b[1;33m\u001b[0m\u001b[0m\n\u001b[0;32m     27\u001b[0m     \u001b[1;31m# change dtype\u001b[0m\u001b[1;33m\u001b[0m\u001b[1;33m\u001b[0m\u001b[0m\n\u001b[1;32m---> 28\u001b[1;33m     \u001b[0mred\u001b[0m \u001b[1;33m=\u001b[0m \u001b[0mb4\u001b[0m\u001b[1;33m.\u001b[0m\u001b[0mread\u001b[0m\u001b[1;33m(\u001b[0m\u001b[1;33m)\u001b[0m\u001b[1;33m.\u001b[0m\u001b[0mastype\u001b[0m\u001b[1;33m(\u001b[0m\u001b[1;34m'float64'\u001b[0m\u001b[1;33m)\u001b[0m\u001b[1;33m\u001b[0m\u001b[1;33m\u001b[0m\u001b[0m\n\u001b[0m\u001b[0;32m     29\u001b[0m     \u001b[0mnir\u001b[0m \u001b[1;33m=\u001b[0m \u001b[0mb5\u001b[0m\u001b[1;33m.\u001b[0m\u001b[0mread\u001b[0m\u001b[1;33m(\u001b[0m\u001b[1;33m)\u001b[0m\u001b[1;33m.\u001b[0m\u001b[0mastype\u001b[0m\u001b[1;33m(\u001b[0m\u001b[1;34m'float64'\u001b[0m\u001b[1;33m)\u001b[0m\u001b[1;33m\u001b[0m\u001b[1;33m\u001b[0m\u001b[0m\n\u001b[0;32m     30\u001b[0m \u001b[1;33m\u001b[0m\u001b[0m\n",
      "\u001b[1;32mrasterio\\_io.pyx\u001b[0m in \u001b[0;36mrasterio._io.DatasetReaderBase.read\u001b[1;34m()\u001b[0m\n",
      "\u001b[1;32mrasterio\\_io.pyx\u001b[0m in \u001b[0;36mrasterio._io.DatasetReaderBase._read\u001b[1;34m()\u001b[0m\n",
      "\u001b[1;31mRasterioIOError\u001b[0m: Read or write failed. D:/bulk_download_USGS/Bulk_Order_Turkana_2/Landsat_8-9_OLI_TIRS_C2_L2/LC08_L2SP_170058_20160513_20200907_02_T1/LC08_L2SP_170058_20160513_20200907_02_T1_SR_B4.TIF, band 1: IReadBlock failed at X offset 25, Y offset 12: TIFFReadEncodedTile() failed."
     ]
    }
   ],
   "source": [
    "count = 1\n",
    "directory = \"D:\\\\bulk_download_USGS\\\\Bulk_Order_Turkana_2\\\\Landsat_8-9_OLI_TIRS_C2_L2\\\\\"\n",
    "# for i in range(len(files)): \n",
    "for i in range(35, 36):\n",
    "    # delete extraneous files \n",
    "    direct = directory + files[i]\n",
    "    # all files in the directory\n",
    "    l8_files = os.listdir(direct)\n",
    "    # files we want to keep \n",
    "    keep_files = [file for file in l8_files if file.endswith(\"B4.TIF\") or file.endswith(\"B5.TIF\") or file.endswith(\"B2.TIF\")]\n",
    "    # files we want to delete \n",
    "    to_delete = [item for item in l8_files if item not in keep_files]\n",
    "    # delete \n",
    "    for file in to_delete:\n",
    "        path_to_file = os.path.join(direct, file)\n",
    "        os.remove(path_to_file)\n",
    "    \n",
    "    #define file paths \n",
    "    b4file_path = directory + files[i] + \"\\\\\" + files[i] + \"_SR_B4.TIF\"\n",
    "    b5file_path = directory + files[i] + \"\\\\\" + files[i] + \"_SR_B5.TIF\"\n",
    "    \n",
    "    # open files\n",
    "    b4 = rasterio.open(b4file_path)\n",
    "    b5 = rasterio.open(b5file_path)\n",
    "    \n",
    "    print (b4, b5)\n",
    "    # change dtype \n",
    "    red = b4.read().astype('float64')\n",
    "    nir = b5.read().astype('float64')\n",
    "\n",
    "    \n",
    "    # calculate NDVI \n",
    "    ndvi = np.where(\n",
    "        (nir+red)==0.,\n",
    "        -255,\n",
    "        (nir-red)/(nir+red)\n",
    "        )\n",
    "    \n",
    "    # write raster file\n",
    "    new_path = directory + files[i] + \"_NDVI.tiff\"\n",
    "    ndviImage = rasterio.open(new_path, 'w', \n",
    "                         driver = 'Gtiff', width = b4.width, height = b4.height, count=1, crs = b4.crs, \n",
    "                         transform = b4.transform, dtype = 'float64')\n",
    "\n",
    "    ndviImage.write(ndvi,1)\n",
    "    ndviImage.close()\n",
    "    \n",
    "    print (str(count), \"/\", str(len(files)))\n",
    "    count += 1"
   ]
  },
  {
   "cell_type": "markdown",
   "id": "f1af2471",
   "metadata": {},
   "source": [
    "## CALCULATE IMPORTANT STATISTICS FOR NDVI CORRELATION \n"
   ]
  },
  {
   "cell_type": "code",
   "execution_count": 3,
   "id": "bf28dae8",
   "metadata": {},
   "outputs": [],
   "source": [
    "# pull all NDVI files\n",
    "ndvi_path = \"C:\\\\Tara_Fall_2019\\\\Kenya_Drought\\\\Calculated_NDVI\"\n",
    "import os \n",
    "ndvi_files = os.listdir(ndvi_path)"
   ]
  },
  {
   "cell_type": "code",
   "execution_count": 10,
   "id": "0527f7df",
   "metadata": {},
   "outputs": [
    {
     "data": {
      "text/plain": [
       "'20140201'"
      ]
     },
     "execution_count": 10,
     "metadata": {},
     "output_type": "execute_result"
    }
   ],
   "source": [
    "ndvi_files[1][17:-28]"
   ]
  },
  {
   "cell_type": "markdown",
   "id": "31b964f7",
   "metadata": {},
   "source": [
    "Crop NDVI files since many of them have slightly different extents which will throw off calculations"
   ]
  },
  {
   "cell_type": "code",
   "execution_count": 4,
   "id": "688e5c10",
   "metadata": {},
   "outputs": [],
   "source": [
    "crop_extent = gpd.read_file(\"C:\\\\Tara_Fall_2019\\\\Kenya_Drought\\\\CLIP.shp\")\n",
    "for file in ndvi_files: \n",
    "    inpath = \"C:\\\\Tara_Fall_2019\\\\Kenya_Drought\\\\Calculated_NDVI\"\n",
    "    outpath = \"C:\\\\Tara_Fall_2019\\\\Kenya_Drought\\\\Calculated_NDVI\\\\\" + file[:-5] + \"CLIP.tif\"\n",
    "    raster = rxr.open_rasterio(os.path.join(inpath, file), masked=True).squeeze()\n",
    "\n",
    "    raster_clipped = raster.rio.clip(crop_extent.geometry.apply(mapping),\n",
    "                                      # This is needed if your GDF is in a diff CRS than the raster data\n",
    "                                      crop_extent.crs)\n",
    "    raster_clipped.rio.to_raster(outpath)"
   ]
  },
  {
   "cell_type": "markdown",
   "id": "a960d990",
   "metadata": {},
   "source": [
    "group files by footprint and year "
   ]
  },
  {
   "cell_type": "code",
   "execution_count": 16,
   "id": "bd0b0dc1",
   "metadata": {},
   "outputs": [],
   "source": [
    "# open all files for a given year \n",
    "f58_14 = [file for file in ndvi_files if \"170058_2014\" in file and \"CLIP\" in file]\n",
    "f58_15 = [file for file in ndvi_files if \"170058_2015\" in file and \"CLIP\" in file]\n",
    "f58_16 = [file for file in ndvi_files if \"170058_2016\" in file and \"CLIP\" in file]\n",
    "f58_17 = [file for file in ndvi_files if \"170058_2017\" in file and \"CLIP\" in file]\n",
    "f58_18 = [file for file in ndvi_files if \"170058_2018\" in file and \"CLIP\" in file]\n",
    "f58_19 = [file for file in ndvi_files if \"170058_2019\" in file and \"CLIP\" in file]\n",
    "f58_20 = [file for file in ndvi_files if \"170058_2020\" in file and \"CLIP\" in file]\n",
    "f58_21 = [file for file in ndvi_files if \"170058_2021\" in file and \"CLIP\" in file]\n",
    "\n",
    "\n",
    "ndvi_lists = [f58_14, f58_15, f58_16, f58_17, f58_18, f58_19, f58_20, f58_21]"
   ]
  },
  {
   "cell_type": "code",
   "execution_count": 76,
   "id": "2d5c1688",
   "metadata": {},
   "outputs": [],
   "source": [
    "f58_19[0]\n",
    "ndvi_path = \"C:\\\\Tara_Fall_2019\\\\Kenya_Drought\\\\Calculated_NDVI\"\n",
    "ar = rasterio.open(os.path.join(ndvi_path, f58_19[0])).read(1).astype('float64')"
   ]
  },
  {
   "cell_type": "code",
   "execution_count": 80,
   "id": "0ea0e80e",
   "metadata": {},
   "outputs": [
    {
     "data": {
      "text/plain": [
       "nan"
      ]
     },
     "execution_count": 80,
     "metadata": {},
     "output_type": "execute_result"
    }
   ],
   "source": [
    "ar[]"
   ]
  },
  {
   "cell_type": "code",
   "execution_count": 74,
   "id": "7a4c7e27",
   "metadata": {},
   "outputs": [
    {
     "name": "stdout",
     "output_type": "stream",
     "text": [
      "done \n",
      "done \n",
      "done \n",
      "done \n",
      "done \n",
      "done \n",
      "done \n",
      "done \n"
     ]
    }
   ],
   "source": [
    "# calculate maximum NDVI for each pixel in a given year \n",
    "\n",
    "# for each year in the record\n",
    "for l in ndvi_lists: \n",
    "    # specify path \n",
    "    ndvi_path = \"C:\\\\Tara_Fall_2019\\\\Kenya_Drought\\\\Calculated_NDVI\"\n",
    "    # select the ndvi list \n",
    "    ndvi_l = l\n",
    "    \n",
    "    # save info from one tif to write new file \n",
    "    b4 = rasterio.open(os.path.join(ndvi_path, ndvi_l[0]))\n",
    "    \n",
    "    # create an empty list to save the arrays of data\n",
    "    arrays = []\n",
    "    \n",
    "    # for each tif in the ndvi list for the year\n",
    "    for tif in ndvi_l: \n",
    "        #append to the list of ararys \n",
    "        arrays.append(rasterio.open(os.path.join(ndvi_path, tif)).read(1).astype('float64'))\n",
    "        \n",
    "    # calculate max and min ndvi with reduce function for all ndvi tifs over the year\n",
    "    max_ndvi = np.maximum.reduce(arrays)\n",
    "    min_ndvi = np.minimum.reduce(arrays)\n",
    "    \n",
    "    # write raster files\n",
    "    new_path_max = \"C:\\\\Tara_Fall_2019\\\\Kenya_Drought\\\\Annual_NDVI_min_max\\\\\" + ndvi_l[0][14:-32] + \"_NDVI_max.tiff\"\n",
    "    new_path_min = \"C:\\\\Tara_Fall_2019\\\\Kenya_Drought\\\\Annual_NDVI_min_max\\\\\" + ndvi_l[0][14:-32] + \"_NDVI_min.tiff\"\n",
    "\n",
    "    ndvimax = rasterio.open(new_path_max, 'w', \n",
    "                         driver = 'Gtiff', width = b4.width, height = b4.height, count=1, crs = b4.crs, \n",
    "                         transform = b4.transform, dtype = 'float64')\n",
    "    ndvimax.write(max_ndvi,1)\n",
    "    ndvimax.close()\n",
    "    \n",
    "    ndvimin = rasterio.open(new_path_min, 'w', \n",
    "                         driver = 'Gtiff', width = b4.width, height = b4.height, count=1, crs = b4.crs, \n",
    "                         transform = b4.transform, dtype = 'float64')\n",
    "    ndvimin.write(min_ndvi,1)\n",
    "    ndvimin.close()\n",
    "    print (\"done\", ndvi_l[0][0][14:-32])"
   ]
  },
  {
   "cell_type": "markdown",
   "id": "20602b2a",
   "metadata": {},
   "source": [
    "## Workspace below "
   ]
  },
  {
   "cell_type": "code",
   "execution_count": 17,
   "id": "7667fee3",
   "metadata": {},
   "outputs": [],
   "source": [
    "arrays = []\n",
    "for tif in f58_15: \n",
    "    arrays.append(rasterio.open(os.path.join(ndvi_path, tif)).read(1))"
   ]
  },
  {
   "cell_type": "code",
   "execution_count": 38,
   "id": "098b33e8",
   "metadata": {},
   "outputs": [],
   "source": [
    "max_ndvi = np.maximum.reduce([arrays[0], arrays[1], arrays[2], arrays[3], arrays[4], arrays[5], arrays[9]])"
   ]
  },
  {
   "cell_type": "code",
   "execution_count": 51,
   "id": "900aa426",
   "metadata": {},
   "outputs": [
    {
     "data": {
      "text/plain": [
       "0.3958038090629429"
      ]
     },
     "execution_count": 51,
     "metadata": {},
     "output_type": "execute_result"
    }
   ],
   "source": [
    "max_ndvi[2500][2500]"
   ]
  },
  {
   "cell_type": "code",
   "execution_count": 52,
   "id": "a7388fab",
   "metadata": {},
   "outputs": [
    {
     "data": {
      "text/plain": [
       "(31746318,)"
      ]
     },
     "execution_count": 52,
     "metadata": {},
     "output_type": "execute_result"
    }
   ],
   "source": [
    "arrays[0].flatten().shape"
   ]
  },
  {
   "cell_type": "code",
   "execution_count": null,
   "id": "2f431403",
   "metadata": {},
   "outputs": [],
   "source": []
  }
 ],
 "metadata": {
  "kernelspec": {
   "display_name": "Python 3 (ipykernel)",
   "language": "python",
   "name": "python3"
  },
  "language_info": {
   "codemirror_mode": {
    "name": "ipython",
    "version": 3
   },
   "file_extension": ".py",
   "mimetype": "text/x-python",
   "name": "python",
   "nbconvert_exporter": "python",
   "pygments_lexer": "ipython3",
   "version": "3.9.7"
  }
 },
 "nbformat": 4,
 "nbformat_minor": 5
}
